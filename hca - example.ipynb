{
 "cells": [
  {
   "cell_type": "code",
   "execution_count": 1,
   "metadata": {},
   "outputs": [],
   "source": [
    "import pandas as pd\n",
    "import matplotlib.pyplot as plt\n",
    "import sklearn\n",
    "import numpy as np\n",
    "import time\n",
    "from scipy.cluster.hierarchy import dendrogram, linkage"
   ]
  },
  {
   "cell_type": "code",
   "execution_count": 2,
   "metadata": {},
   "outputs": [],
   "source": [
    "from pylab import rcParams\n",
    "import seaborn as sb\n",
    "\n",
    "%matplotlib inline\n",
    "rcParams['figure.figsize'] = 15, 16\n",
    "sb.set_style('whitegrid')"
   ]
  },
  {
   "cell_type": "markdown",
   "metadata": {},
   "source": [
    "## Import dataset"
   ]
  },
  {
   "cell_type": "code",
   "execution_count": 3,
   "metadata": {},
   "outputs": [
    {
     "name": "stdout",
     "output_type": "stream",
     "text": [
      "(175000, 3)\n"
     ]
    },
    {
     "data": {
      "text/html": [
       "<div>\n",
       "<style scoped>\n",
       "    .dataframe tbody tr th:only-of-type {\n",
       "        vertical-align: middle;\n",
       "    }\n",
       "\n",
       "    .dataframe tbody tr th {\n",
       "        vertical-align: top;\n",
       "    }\n",
       "\n",
       "    .dataframe thead th {\n",
       "        text-align: right;\n",
       "    }\n",
       "</style>\n",
       "<table border=\"1\" class=\"dataframe\">\n",
       "  <thead>\n",
       "    <tr style=\"text-align: right;\">\n",
       "      <th></th>\n",
       "      <th>name</th>\n",
       "      <th>state</th>\n",
       "      <th>time</th>\n",
       "    </tr>\n",
       "  </thead>\n",
       "  <tbody>\n",
       "    <tr>\n",
       "      <th>1</th>\n",
       "      <td>Staande_Lamp_2</td>\n",
       "      <td>1</td>\n",
       "      <td>1509490125797</td>\n",
       "    </tr>\n",
       "    <tr>\n",
       "      <th>2</th>\n",
       "      <td>Staande_Lamp_3</td>\n",
       "      <td>1</td>\n",
       "      <td>1509490363420</td>\n",
       "    </tr>\n",
       "    <tr>\n",
       "      <th>0</th>\n",
       "      <td>Staande_Lamp_1</td>\n",
       "      <td>0</td>\n",
       "      <td>1509491964532</td>\n",
       "    </tr>\n",
       "    <tr>\n",
       "      <th>6</th>\n",
       "      <td>Staande_Lamp_5</td>\n",
       "      <td>1</td>\n",
       "      <td>1509492113970</td>\n",
       "    </tr>\n",
       "    <tr>\n",
       "      <th>4</th>\n",
       "      <td>Staande_Lamp_3</td>\n",
       "      <td>0</td>\n",
       "      <td>1509492126316</td>\n",
       "    </tr>\n",
       "  </tbody>\n",
       "</table>\n",
       "</div>"
      ],
      "text/plain": [
       "             name  state           time\n",
       "1  Staande_Lamp_2      1  1509490125797\n",
       "2  Staande_Lamp_3      1  1509490363420\n",
       "0  Staande_Lamp_1      0  1509491964532\n",
       "6  Staande_Lamp_5      1  1509492113970\n",
       "4  Staande_Lamp_3      0  1509492126316"
      ]
     },
     "execution_count": 3,
     "metadata": {},
     "output_type": "execute_result"
    }
   ],
   "source": [
    "address = './datasets/staandelamp_realistic_huge.json'\n",
    "df_data = pd.read_json(address)\n",
    "\n",
    "# Sort the data on timestamp\n",
    "df_data = df_data.sort_values(by=['time'])\n",
    "\n",
    "print(df_data.shape)\n",
    "df_data.head()"
   ]
  },
  {
   "cell_type": "markdown",
   "metadata": {},
   "source": [
    "#####  Cut off the dataset"
   ]
  },
  {
   "cell_type": "code",
   "execution_count": 4,
   "metadata": {},
   "outputs": [],
   "source": [
    "df_data = df_data[:42]\n",
    "# df_data = df_data[:40000]"
   ]
  },
  {
   "cell_type": "markdown",
   "metadata": {},
   "source": [
    "# Determine the number of clusters (linkage)"
   ]
  },
  {
   "cell_type": "markdown",
   "metadata": {},
   "source": [
    "#### only interested in column TIME"
   ]
  },
  {
   "cell_type": "code",
   "execution_count": 5,
   "metadata": {},
   "outputs": [
    {
     "data": {
      "text/plain": [
       "array([[1509490125797],\n",
       "       [1509490363420],\n",
       "       [1509491964532],\n",
       "       [1509492113970],\n",
       "       [1509492126316]], dtype=int64)"
      ]
     },
     "execution_count": 5,
     "metadata": {},
     "output_type": "execute_result"
    }
   ],
   "source": [
    "X = df_data.iloc[ :, [2] ].values\n",
    "#                 :        All the rows\n",
    "#                    [2]   Only column 2 (time)\n",
    "\n",
    "X[:5]"
   ]
  },
  {
   "cell_type": "markdown",
   "metadata": {},
   "source": [
    "##### Plot the timestamps and a line indicating 5 minutes"
   ]
  },
  {
   "cell_type": "code",
   "execution_count": 6,
   "metadata": {
    "scrolled": false
   },
   "outputs": [
    {
     "data": {
      "text/plain": [
       "<matplotlib.lines.Line2D at 0x1c7daa9ae48>"
      ]
     },
     "execution_count": 6,
     "metadata": {},
     "output_type": "execute_result"
    },
    {
     "data": {
      "image/png": "[encoded data removed]",
      "text/plain": [
       "<Figure size 1080x1152 with 1 Axes>"
      ]
     },
     "metadata": {},
     "output_type": "display_data"
    }
   ],
   "source": [
    "Z = linkage(X, method='complete')\n",
    "\n",
    "gram = dendrogram(\n",
    "    Z, \n",
    "    labels=X,\n",
    "    truncate_mode='lastp', \n",
    "    p=12, \n",
    "    leaf_rotation=45., \n",
    "    leaf_font_size=15., \n",
    "    show_contracted=True\n",
    ")\n",
    "plt.title('Dendrogram')\n",
    "plt.xlabel('Timestamps')\n",
    "plt.ylabel('Eucledian Distance')\n",
    "\n",
    "# This line represents a distance of 5 minutes\n",
    "plt.axhline(y=300000)"
   ]
  },
  {
   "cell_type": "code",
   "execution_count": 7,
   "metadata": {},
   "outputs": [],
   "source": [
    "five_minutes = 300000\n",
    "\n",
    "clusters_with_distance_of_five_minutes_or_less = 0\n",
    "for idx, val in enumerate(Z):\n",
    "    if(val[2] < five_minutes): \n",
    "        clusters_with_distance_of_five_minutes_or_less += 1"
   ]
  },
  {
   "cell_type": "code",
   "execution_count": 8,
   "metadata": {},
   "outputs": [
    {
     "name": "stdout",
     "output_type": "stream",
     "text": [
      "20 of 41 clusters have a distance less than 5 minutes\n"
     ]
    }
   ],
   "source": [
    "total_number_of_clusters = Z.shape[0]\n",
    "print(\n",
    "    clusters_with_distance_of_five_minutes_or_less, \n",
    "    'of', \n",
    "    total_number_of_clusters, \n",
    "    'clusters have a distance less than 5 minutes'\n",
    ")"
   ]
  },
  {
   "cell_type": "markdown",
   "metadata": {},
   "source": [
    "# AgglomerativeClustering"
   ]
  },
  {
   "cell_type": "markdown",
   "metadata": {},
   "source": [
    "##### Format the dataset to be all numbers"
   ]
  },
  {
   "cell_type": "code",
   "execution_count": 9,
   "metadata": {},
   "outputs": [
    {
     "name": "stdout",
     "output_type": "stream",
     "text": [
      "before:\n",
      "              name  state           time\n",
      "1  Staande_Lamp_2      1  1509490125797\n",
      "2  Staande_Lamp_3      1  1509490363420\n",
      "0  Staande_Lamp_1      0  1509491964532\n",
      "6  Staande_Lamp_5      1  1509492113970\n",
      "4  Staande_Lamp_3      0  1509492126316\n",
      "after:\n",
      "    name  state           time\n",
      "1     1      1  1509490125797\n",
      "2     2      1  1509490363420\n",
      "0     0      0  1509491964532\n",
      "6     4      1  1509492113970\n",
      "4     2      0  1509492126316\n"
     ]
    }
   ],
   "source": [
    "from sklearn.preprocessing import LabelEncoder\n",
    "from collections import defaultdict\n",
    "\n",
    "print('before:\\n', df_data.head())\n",
    "\n",
    "d = defaultdict(LabelEncoder)\n",
    "df_fit = df_data.apply(lambda x: d[x.name].fit_transform(x))\n",
    "df_fit['time'] = df_data['time']\n",
    "print('after:\\n', df_fit.head())"
   ]
  },
  {
   "cell_type": "code",
   "execution_count": 10,
   "metadata": {},
   "outputs": [],
   "source": [
    "from sklearn.cluster import AgglomerativeClustering\n",
    "import sklearn.metrics as sm\n",
    "\n",
    "model = AgglomerativeClustering(\n",
    "    affinity='euclidean', \n",
    "    compute_full_tree='auto',\n",
    "    connectivity=None, \n",
    "    linkage='complete', \n",
    "    memory=None, \n",
    "    n_clusters=clusters_with_distance_of_five_minutes_or_less,\n",
    "    pooling_func='deprecated'\n",
    ")"
   ]
  },
  {
   "cell_type": "code",
   "execution_count": 11,
   "metadata": {},
   "outputs": [
    {
     "data": {
      "text/plain": [
       "array([ 6,  6,  1,  1,  1,  1, 17, 16, 16,  3,  3, 14,  8,  8,  8,  2,  2,\n",
       "        2, 19, 13, 13,  0,  0,  0, 12, 15, 15, 11, 11, 10, 10,  7,  7,  7,\n",
       "        4,  4,  5,  5,  5,  9,  9, 18], dtype=int64)"
      ]
     },
     "execution_count": 11,
     "metadata": {},
     "output_type": "execute_result"
    }
   ],
   "source": [
    "predicted_clusters = model.fit(df_fit).labels_\n",
    "predicted_clusters"
   ]
  },
  {
   "cell_type": "markdown",
   "metadata": {},
   "source": [
    "##### Find outliers"
   ]
  },
  {
   "cell_type": "code",
   "execution_count": 12,
   "metadata": {},
   "outputs": [
    {
     "name": "stdout",
     "output_type": "stream",
     "text": [
      "outliers:\n",
      " [17, 14, 19, 12, 18]\n"
     ]
    }
   ],
   "source": [
    "outlier_dict = {}\n",
    "for i in model.labels_: \n",
    "    outlier_dict[i] = i in outlier_dict\n",
    "outliers = [k for k in outlier_dict if not outlier_dict[k]]\n",
    "\n",
    "print('outliers:\\n', outliers)"
   ]
  },
  {
   "cell_type": "markdown",
   "metadata": {},
   "source": [
    "### Make a color map for all groups and outliers (for plotting)"
   ]
  },
  {
   "cell_type": "code",
   "execution_count": 13,
   "metadata": {},
   "outputs": [],
   "source": [
    "COLOR_MAP = {}\n",
    "group_count = 0;\n",
    "for n in set(model.labels_):\n",
    "    if n in outliers:\n",
    "        COLOR_MAP[n] = 'lightgrey'\n",
    "    else:\n",
    "        group_count += 1\n",
    "        if group_count % 7 == 0:\n",
    "            COLOR_MAP[n] = 'firebrick'\n",
    "        elif group_count % 7 == 1:\n",
    "            COLOR_MAP[n] = 'darkgreen'\n",
    "        elif group_count % 7 == 2:\n",
    "            COLOR_MAP[n] = 'purple'\n",
    "        elif group_count % 7 == 3:\n",
    "            COLOR_MAP[n] = 'darkorange'\n",
    "        elif group_count % 7 == 4:\n",
    "            COLOR_MAP[n] = 'Teal'\n",
    "        elif group_count % 7 == 5:\n",
    "            COLOR_MAP[n] = 'Olive'\n",
    "        elif group_count % 7 == 6:\n",
    "            COLOR_MAP[n] = 'Green'\n",
    "        else:\n",
    "            COLOR_MAP[n] = 'darkblue'"
   ]
  },
  {
   "cell_type": "code",
   "execution_count": 14,
   "metadata": {},
   "outputs": [
    {
     "data": {
      "text/plain": [
       "<matplotlib.collections.PathCollection at 0x1c7dfd30ac8>"
      ]
     },
     "execution_count": 14,
     "metadata": {},
     "output_type": "execute_result"
    },
    {
     "data": {
      "image/png": "[encoded data removed]",
      "text/plain": [
       "<Figure size 1080x144 with 1 Axes>"
      ]
     },
     "metadata": {},
     "output_type": "display_data"
    }
   ],
   "source": [
    "rcParams['figure.figsize'] = 15, 2\n",
    "fig = plt.figure()\n",
    "ax = fig.add_axes([.1, .1, 1, 1])\n",
    "colors = [COLOR_MAP[l] for l in model.labels_]\n",
    "XX = df_fit.iloc[:,2]\n",
    "YY = [1] * df_fit.shape[0]\n",
    "ax.scatter(XX, YY, c=colors, s=20)"
   ]
  },
  {
   "cell_type": "code",
   "execution_count": null,
   "metadata": {},
   "outputs": [],
   "source": []
  }
 ],
 "metadata": {
  "kernelspec": {
   "display_name": "Python 3",
   "language": "python",
   "name": "python3"
  },
  "language_info": {
   "codemirror_mode": {
    "name": "ipython",
    "version": 3
   },
   "file_extension": ".py",
   "mimetype": "text/x-python",
   "name": "python",
   "nbconvert_exporter": "python",
   "pygments_lexer": "ipython3",
   "version": "3.7.1"
  }
 },
 "nbformat": 4,
 "nbformat_minor": 2
}
