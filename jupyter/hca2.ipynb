{
 "cells": [
  {
   "cell_type": "markdown",
   "metadata": {},
   "source": [
    "## Global Imports"
   ]
  },
  {
   "cell_type": "code",
   "execution_count": 1,
   "metadata": {},
   "outputs": [],
   "source": [
    "import pandas as pd\n",
    "import matplotlib.pyplot as plt\n",
    "import sklearn\n",
    "import numpy as np\n",
    "import time"
   ]
  },
  {
   "cell_type": "markdown",
   "metadata": {},
   "source": [
    "## Setup Jupyter Notebook data visualisaton params"
   ]
  },
  {
   "cell_type": "code",
   "execution_count": 2,
   "metadata": {},
   "outputs": [],
   "source": [
    "from pylab import rcParams\n",
    "import seaborn as sb\n",
    "\n",
    "%matplotlib inline\n",
    "rcParams['figure.figsize'] = 15, 12\n",
    "sb.set_style('whitegrid')"
   ]
  },
  {
   "cell_type": "markdown",
   "metadata": {},
   "source": [
    "## Import dataset"
   ]
  },
  {
   "cell_type": "code",
   "execution_count": 3,
   "metadata": {},
   "outputs": [
    {
     "data": {
      "text/html": [
       "<div>\n",
       "<style scoped>\n",
       "    .dataframe tbody tr th:only-of-type {\n",
       "        vertical-align: middle;\n",
       "    }\n",
       "\n",
       "    .dataframe tbody tr th {\n",
       "        vertical-align: top;\n",
       "    }\n",
       "\n",
       "    .dataframe thead th {\n",
       "        text-align: right;\n",
       "    }\n",
       "</style>\n",
       "<table border=\"1\" class=\"dataframe\">\n",
       "  <thead>\n",
       "    <tr style=\"text-align: right;\">\n",
       "      <th></th>\n",
       "      <th>name</th>\n",
       "      <th>state</th>\n",
       "      <th>time</th>\n",
       "    </tr>\n",
       "  </thead>\n",
       "  <tbody>\n",
       "    <tr>\n",
       "      <th>2</th>\n",
       "      <td>Staande_Lamp_3</td>\n",
       "      <td>0</td>\n",
       "      <td>1509489940655</td>\n",
       "    </tr>\n",
       "    <tr>\n",
       "      <th>6</th>\n",
       "      <td>Staande_Lamp_5</td>\n",
       "      <td>1</td>\n",
       "      <td>1509490011225</td>\n",
       "    </tr>\n",
       "    <tr>\n",
       "      <th>0</th>\n",
       "      <td>Staande_Lamp_1</td>\n",
       "      <td>1</td>\n",
       "      <td>1509491943009</td>\n",
       "    </tr>\n",
       "    <tr>\n",
       "      <th>1</th>\n",
       "      <td>Staande_Lamp_2</td>\n",
       "      <td>0</td>\n",
       "      <td>1509492221471</td>\n",
       "    </tr>\n",
       "    <tr>\n",
       "      <th>3</th>\n",
       "      <td>Staande_Lamp_3</td>\n",
       "      <td>1</td>\n",
       "      <td>1509492826941</td>\n",
       "    </tr>\n",
       "  </tbody>\n",
       "</table>\n",
       "</div>"
      ],
      "text/plain": [
       "             name  state           time\n",
       "2  Staande_Lamp_3      0  1509489940655\n",
       "6  Staande_Lamp_5      1  1509490011225\n",
       "0  Staande_Lamp_1      1  1509491943009\n",
       "1  Staande_Lamp_2      0  1509492221471\n",
       "3  Staande_Lamp_3      1  1509492826941"
      ]
     },
     "execution_count": 3,
     "metadata": {},
     "output_type": "execute_result"
    }
   ],
   "source": [
    "address = '../datasets/staandelamp_realistic.json'\n",
    "df_data = pd.read_json(address)\n",
    "\n",
    "# Sort the data on timestamp\n",
    "df_data = df_data.sort_values(by=['time'])\n",
    "\n",
    "\n",
    "# Grab around 6 hours of timestamps\n",
    "### TEMP ###\n",
    "df_data = df_data[:42]\n",
    "### TEMP ###\n",
    "\n",
    "df_data.head()"
   ]
  },
  {
   "cell_type": "markdown",
   "metadata": {},
   "source": [
    "### (optional) Make a dataset for debugging purposes (so the date and time is human-readable) "
   ]
  },
  {
   "cell_type": "code",
   "execution_count": 4,
   "metadata": {},
   "outputs": [
    {
     "data": {
      "text/html": [
       "<div>\n",
       "<style scoped>\n",
       "    .dataframe tbody tr th:only-of-type {\n",
       "        vertical-align: middle;\n",
       "    }\n",
       "\n",
       "    .dataframe tbody tr th {\n",
       "        vertical-align: top;\n",
       "    }\n",
       "\n",
       "    .dataframe thead th {\n",
       "        text-align: right;\n",
       "    }\n",
       "</style>\n",
       "<table border=\"1\" class=\"dataframe\">\n",
       "  <thead>\n",
       "    <tr style=\"text-align: right;\">\n",
       "      <th></th>\n",
       "      <th>time</th>\n",
       "      <th>printable_dates</th>\n",
       "    </tr>\n",
       "  </thead>\n",
       "  <tbody>\n",
       "    <tr>\n",
       "      <th>2</th>\n",
       "      <td>1509489940655</td>\n",
       "      <td>2017-10-31T23:45:40.655000</td>\n",
       "    </tr>\n",
       "    <tr>\n",
       "      <th>6</th>\n",
       "      <td>1509490011225</td>\n",
       "      <td>2017-10-31T23:46:51.225000</td>\n",
       "    </tr>\n",
       "    <tr>\n",
       "      <th>0</th>\n",
       "      <td>1509491943009</td>\n",
       "      <td>2017-11-01T00:19:03.009000</td>\n",
       "    </tr>\n",
       "    <tr>\n",
       "      <th>1</th>\n",
       "      <td>1509492221471</td>\n",
       "      <td>2017-11-01T00:23:41.471000</td>\n",
       "    </tr>\n",
       "    <tr>\n",
       "      <th>3</th>\n",
       "      <td>1509492826941</td>\n",
       "      <td>2017-11-01T00:33:46.941000</td>\n",
       "    </tr>\n",
       "  </tbody>\n",
       "</table>\n",
       "</div>"
      ],
      "text/plain": [
       "            time             printable_dates\n",
       "2  1509489940655  2017-10-31T23:45:40.655000\n",
       "6  1509490011225  2017-10-31T23:46:51.225000\n",
       "0  1509491943009  2017-11-01T00:19:03.009000\n",
       "1  1509492221471  2017-11-01T00:23:41.471000\n",
       "3  1509492826941  2017-11-01T00:33:46.941000"
      ]
     },
     "execution_count": 4,
     "metadata": {},
     "output_type": "execute_result"
    }
   ],
   "source": [
    "import datetime\n",
    "import time\n",
    "df_printable_dates = pd.DataFrame()\n",
    "df_printable_dates['time'] = df_data['time']\n",
    "df_printable_dates['printable_dates'] = df_data['time'].map(lambda x: datetime.datetime.fromtimestamp(x / 1000).isoformat())\n",
    "\n",
    "df_printable_dates.head()"
   ]
  },
  {
   "cell_type": "markdown",
   "metadata": {},
   "source": [
    "# Determine the number of clusters (linkage)"
   ]
  },
  {
   "cell_type": "markdown",
   "metadata": {},
   "source": [
    "#### only interested in column TIME"
   ]
  },
  {
   "cell_type": "code",
   "execution_count": 5,
   "metadata": {},
   "outputs": [
    {
     "data": {
      "text/plain": [
       "array([[1509489940655],\n",
       "       [1509490011225],\n",
       "       [1509491943009],\n",
       "       [1509492221471],\n",
       "       [1509492826941]], dtype=int64)"
      ]
     },
     "execution_count": 5,
     "metadata": {},
     "output_type": "execute_result"
    }
   ],
   "source": [
    "\n",
    "X = df_data.iloc[ :, [2] ].values\n",
    "#                 :        All the rows\n",
    "#                    [2]   Only column 2 (time)\n",
    "\n",
    "X[:5]"
   ]
  },
  {
   "cell_type": "markdown",
   "metadata": {},
   "source": [
    "##### Plot the timestamps and a line indicating 10 minutes"
   ]
  },
  {
   "cell_type": "code",
   "execution_count": 16,
   "metadata": {},
   "outputs": [
    {
     "data": {
      "text/plain": [
       "<matplotlib.lines.Line2D at 0x294dca93048>"
      ]
     },
     "execution_count": 16,
     "metadata": {},
     "output_type": "execute_result"
    },
    {
     "data": {
      "image/png": "[encoded data removed]",
      "text/plain": [
       "<Figure size 1080x864 with 1 Axes>"
      ]
     },
     "metadata": {},
     "output_type": "display_data"
    }
   ],
   "source": [
    "from scipy.cluster.hierarchy import dendrogram, linkage\n",
    "Z = linkage(X, method='ward')\n",
    "gram = dendrogram(\n",
    "    Z, \n",
    "    labels=X\n",
    "    # truncate_mode='lastp', \n",
    "    # p=12, \n",
    "    # leaf_rotation=45., \n",
    "    # leaf_font_size=15., \n",
    "    # show_contracted=True\n",
    ")\n",
    "plt.title('Dendrogram')\n",
    "plt.xlabel('Timestamps')\n",
    "plt.ylabel('Eucledian Distance')\n",
    "\n",
    "# This line represents a distance of 10 minutes\n",
    "plt.axhline(y=600000)"
   ]
  },
  {
   "cell_type": "code",
   "execution_count": 34,
   "metadata": {},
   "outputs": [
    {
     "name": "stdout",
     "output_type": "stream",
     "text": [
      "datapoint: 0 \n",
      "val: [6.000e+00 7.000e+00 5.479e+03 2.000e+00] \n",
      "\n",
      "\n",
      "datapoint: 1 \n",
      "val: [4.000e+00 5.000e+00 3.351e+04 2.000e+00] \n",
      "\n",
      "\n",
      "datapoint: 2 \n",
      "val: [2.4000e+01 2.5000e+01 5.1818e+04 2.0000e+00] \n",
      "\n",
      "\n",
      "datapoint: 3 \n",
      "val: [2.8000e+01 2.9000e+01 6.8942e+04 2.0000e+00] \n",
      "\n",
      "\n",
      "datapoint: 4 \n",
      "val: [0.000e+00 1.000e+00 7.057e+04 2.000e+00] \n",
      "\n",
      "\n",
      "datapoint: 5 \n",
      "val: [8.0000000e+00 4.2000000e+01 8.7670061e+04 3.0000000e+00] \n",
      "\n",
      "\n",
      "datapoint: 6 \n",
      "val: [3.60000e+01 3.70000e+01 1.07026e+05 2.00000e+00] \n",
      "\n",
      "\n",
      "datapoint: 7 \n",
      "val: [4.30000000e+01 4.70000000e+01 1.38251046e+05 5.00000000e+00] \n",
      "\n",
      "\n",
      "datapoint: 8 \n",
      "val: [1.60000e+01 1.70000e+01 1.49688e+05 2.00000e+00] \n",
      "\n",
      "\n",
      "datapoint: 9 \n",
      "val: [2.70000000e+01 4.50000000e+01 1.81192144e+05 3.00000000e+00] \n",
      "\n",
      "\n",
      "datapoint: 10 \n",
      "val: [3.80000000e+01 4.80000000e+01 1.92302673e+05 3.00000000e+00] \n",
      "\n",
      "\n",
      "datapoint: 11 \n",
      "val: [3.00000e+01 3.10000e+01 2.00275e+05 2.00000e+00] \n",
      "\n",
      "\n",
      "datapoint: 12 \n",
      "val: [2.20000e+01 2.30000e+01 2.09444e+05 2.00000e+00] \n",
      "\n",
      "\n",
      "datapoint: 13 \n",
      "val: [1.40000e+01 1.50000e+01 2.14802e+05 2.00000e+00] \n",
      "\n",
      "\n",
      "datapoint: 14 \n",
      "val: [2.00000e+00 3.00000e+00 2.78462e+05 2.00000e+00] \n",
      "\n",
      "\n",
      "datapoint: 15 \n",
      "val: [3.20000e+01 3.30000e+01 2.92304e+05 2.00000e+00] \n",
      "\n",
      "\n",
      "datapoint: 16 \n",
      "val: [1.10000e+01 1.20000e+01 2.94388e+05 2.00000e+00] \n",
      "\n",
      "\n",
      "datapoint: 17 \n",
      "val: [1.80000e+01 1.90000e+01 3.08067e+05 2.00000e+00] \n",
      "\n",
      "\n",
      "datapoint: 18 \n",
      "val: [2.00000e+01 2.10000e+01 4.08511e+05 2.00000e+00] \n",
      "\n",
      "\n",
      "datapoint: 19 \n",
      "val: [3.40000e+01 3.50000e+01 4.52954e+05 2.00000e+00] \n",
      "\n",
      "\n",
      "datapoint: 20 \n",
      "val: [4.40000000e+01 5.40000000e+01 4.90443607e+05 4.00000000e+00] \n",
      "\n",
      "\n",
      "datapoint: 21 \n",
      "val: [3.90000000e+01 5.20000000e+01 4.96280094e+05 4.00000000e+00] \n",
      "\n",
      "\n",
      "datapoint: 22 \n",
      "val: [5.10000000e+01 5.30000000e+01 7.62852493e+05 5.00000000e+00] \n",
      "\n",
      "\n",
      "datapoint: 23 \n",
      "val: [1.30000000e+01 5.50000000e+01 7.95794208e+05 3.00000000e+00] \n",
      "\n",
      "\n",
      "datapoint: 24 \n",
      "val: [1.00000000e+01 5.80000000e+01 8.60632952e+05 3.00000000e+00] \n",
      "\n",
      "\n",
      "datapoint: 25 \n",
      "val: [4.000000e+01 4.100000e+01 1.065273e+06 2.000000e+00] \n",
      "\n",
      "\n",
      "datapoint: 26 \n",
      "val: [5.00000000e+01 5.90000000e+01 1.16943512e+06 4.00000000e+00] \n",
      "\n",
      "\n",
      "datapoint: 27 \n",
      "val: [4.90000000e+01 5.60000000e+01 1.37760211e+06 7.00000000e+00] \n",
      "\n",
      "\n",
      "datapoint: 28 \n",
      "val: [6.10000000e+01 6.30000000e+01 1.42457547e+06 6.00000000e+00] \n",
      "\n",
      "\n",
      "datapoint: 29 \n",
      "val: [2.60000000e+01 6.20000000e+01 1.42967964e+06 5.00000000e+00] \n",
      "\n",
      "\n",
      "datapoint: 30 \n",
      "val: [9.00000000e+00 6.60000000e+01 1.66996372e+06 4.00000000e+00] \n",
      "\n",
      "\n",
      "datapoint: 31 \n",
      "val: [5.70000000e+01 6.40000000e+01 2.20046897e+06 7.00000000e+00] \n",
      "\n",
      "\n",
      "datapoint: 32 \n",
      "val: [6.00000000e+01 7.10000000e+01 2.24812671e+06 7.00000000e+00] \n",
      "\n",
      "\n",
      "datapoint: 33 \n",
      "val: [6.50000000e+01 6.80000000e+01 2.25652679e+06 7.00000000e+00] \n",
      "\n",
      "\n",
      "datapoint: 34 \n",
      "val: [6.70000000e+01 7.00000000e+01 4.03729092e+06 8.00000000e+00] \n",
      "\n",
      "\n",
      "datapoint: 35 \n",
      "val: [4.60000000e+01 6.90000000e+01 4.74196798e+06 9.00000000e+00] \n",
      "\n",
      "\n",
      "datapoint: 36 \n",
      "val: [7.20000000e+01 7.50000000e+01 5.89420811e+06 1.10000000e+01] \n",
      "\n",
      "\n",
      "datapoint: 37 \n",
      "val: [7.30000000e+01 7.40000000e+01 9.11113864e+06 1.40000000e+01] \n",
      "\n",
      "\n",
      "datapoint: 38 \n",
      "val: [7.70000000e+01 7.80000000e+01 1.55113143e+07 2.00000000e+01] \n",
      "\n",
      "\n",
      "datapoint: 39 \n",
      "val: [7.60000000e+01 7.90000000e+01 1.64298523e+07 2.20000000e+01] \n",
      "\n",
      "\n",
      "datapoint: 40 \n",
      "val: [8.00000000e+01 8.10000000e+01 4.86390637e+07 4.20000000e+01] \n",
      "\n",
      "\n"
     ]
    }
   ],
   "source": [
    "# Debug Z\n",
    "\n",
    "for idx, val in enumerate(Z):\n",
    "    print(\n",
    "        'datapoint:', idx,\n",
    "        '\\nval:', val, \n",
    "        '\\n\\n'\n",
    "    )"
   ]
  },
  {
   "cell_type": "markdown",
   "metadata": {},
   "source": [
    "# AgglomerativeClustering"
   ]
  },
  {
   "cell_type": "code",
   "execution_count": 7,
   "metadata": {},
   "outputs": [],
   "source": [
    "## Format the dataset to be all numbers"
   ]
  },
  {
   "cell_type": "code",
   "execution_count": 8,
   "metadata": {},
   "outputs": [],
   "source": [
    "# from sklearn.preprocessing import LabelEncoder\n",
    "# from collections import defaultdict\n",
    "# \n",
    "# print('before:\\n', df_data.head())\n",
    "# \n",
    "# d = defaultdict(LabelEncoder)\n",
    "# df_fit = df_data.apply(lambda x: d[x.name].fit_transform(x))\n",
    "# df_fit['time'] = df_data['time']\n",
    "# print('after:\\n', df_fit.head())"
   ]
  },
  {
   "cell_type": "code",
   "execution_count": 9,
   "metadata": {},
   "outputs": [],
   "source": [
    "# from sklearn.cluster import AgglomerativeClustering\n",
    "# \n",
    "# amountOfDataRows = df_fit['name'].size\n",
    "# \n",
    "# model = AgglomerativeClustering(\n",
    "#     affinity='euclidean', \n",
    "#     compute_full_tree='auto',\n",
    "#     connectivity=None, \n",
    "#     linkage='ward', \n",
    "#     memory=None, \n",
    "#     n_clusters=amountOfDataRows - 1,\n",
    "#     pooling_func='deprecated'\n",
    "# ).fit(df_fit)\n",
    "# \n",
    "# model"
   ]
  }
 ],
 "metadata": {
  "kernelspec": {
   "display_name": "Python 3",
   "language": "python",
   "name": "python3"
  },
  "language_info": {
   "codemirror_mode": {
    "name": "ipython",
    "version": 3
   },
   "file_extension": ".py",
   "mimetype": "text/x-python",
   "name": "python",
   "nbconvert_exporter": "python",
   "pygments_lexer": "ipython3",
   "version": "3.6.5"
  }
 },
 "nbformat": 4,
 "nbformat_minor": 2
}
