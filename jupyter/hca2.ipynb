{
 "cells": [
  {
   "cell_type": "code",
   "execution_count": 1,
   "metadata": {},
   "outputs": [],
   "source": [
    "import pandas as pd\n",
    "import matplotlib.pyplot as plt\n",
    "import sklearn\n",
    "import numpy as np\n",
    "import time"
   ]
  },
  {
   "cell_type": "code",
   "execution_count": 2,
   "metadata": {},
   "outputs": [],
   "source": [
    "from pylab import rcParams\n",
    "import seaborn as sb\n",
    "\n",
    "# Standard data visualisaton params for Jupyter\n",
    "%matplotlib inline\n",
    "rcParams['figure.figsize'] = 15, 4\n",
    "sb.set_style('whitegrid')"
   ]
  },
  {
   "cell_type": "code",
   "execution_count": 3,
   "metadata": {},
   "outputs": [
    {
     "data": {
      "text/html": [
       "<div>\n",
       "<style scoped>\n",
       "    .dataframe tbody tr th:only-of-type {\n",
       "        vertical-align: middle;\n",
       "    }\n",
       "\n",
       "    .dataframe tbody tr th {\n",
       "        vertical-align: top;\n",
       "    }\n",
       "\n",
       "    .dataframe thead th {\n",
       "        text-align: right;\n",
       "    }\n",
       "</style>\n",
       "<table border=\"1\" class=\"dataframe\">\n",
       "  <thead>\n",
       "    <tr style=\"text-align: right;\">\n",
       "      <th></th>\n",
       "      <th>name</th>\n",
       "      <th>state</th>\n",
       "      <th>time</th>\n",
       "    </tr>\n",
       "  </thead>\n",
       "  <tbody>\n",
       "    <tr>\n",
       "      <th>2</th>\n",
       "      <td>Staande_Lamp_3</td>\n",
       "      <td>0</td>\n",
       "      <td>1509489940655</td>\n",
       "    </tr>\n",
       "    <tr>\n",
       "      <th>6</th>\n",
       "      <td>Staande_Lamp_5</td>\n",
       "      <td>1</td>\n",
       "      <td>1509490011225</td>\n",
       "    </tr>\n",
       "    <tr>\n",
       "      <th>0</th>\n",
       "      <td>Staande_Lamp_1</td>\n",
       "      <td>1</td>\n",
       "      <td>1509491943009</td>\n",
       "    </tr>\n",
       "    <tr>\n",
       "      <th>1</th>\n",
       "      <td>Staande_Lamp_2</td>\n",
       "      <td>0</td>\n",
       "      <td>1509492221471</td>\n",
       "    </tr>\n",
       "    <tr>\n",
       "      <th>3</th>\n",
       "      <td>Staande_Lamp_3</td>\n",
       "      <td>1</td>\n",
       "      <td>1509492826941</td>\n",
       "    </tr>\n",
       "  </tbody>\n",
       "</table>\n",
       "</div>"
      ],
      "text/plain": [
       "             name  state           time\n",
       "2  Staande_Lamp_3      0  1509489940655\n",
       "6  Staande_Lamp_5      1  1509490011225\n",
       "0  Staande_Lamp_1      1  1509491943009\n",
       "1  Staande_Lamp_2      0  1509492221471\n",
       "3  Staande_Lamp_3      1  1509492826941"
      ]
     },
     "execution_count": 3,
     "metadata": {},
     "output_type": "execute_result"
    }
   ],
   "source": [
    "address = '../datasets/staandelamp_realistic.json'\n",
    "df_data = pd.read_json(address)\n",
    "\n",
    "# Sort the data on timestamp\n",
    "df_data = df_data.sort_values(by=['time'])\n",
    "\n",
    "\n",
    "# Grab around 6 hours of timestamps\n",
    "### TEMP ###\n",
    "df_data = df_data[:42]\n",
    "### TEMP ###\n",
    "\n",
    "df_data.head()"
   ]
  },
  {
   "cell_type": "code",
   "execution_count": 4,
   "metadata": {},
   "outputs": [
    {
     "data": {
      "text/html": [
       "<div>\n",
       "<style scoped>\n",
       "    .dataframe tbody tr th:only-of-type {\n",
       "        vertical-align: middle;\n",
       "    }\n",
       "\n",
       "    .dataframe tbody tr th {\n",
       "        vertical-align: top;\n",
       "    }\n",
       "\n",
       "    .dataframe thead th {\n",
       "        text-align: right;\n",
       "    }\n",
       "</style>\n",
       "<table border=\"1\" class=\"dataframe\">\n",
       "  <thead>\n",
       "    <tr style=\"text-align: right;\">\n",
       "      <th></th>\n",
       "      <th>name</th>\n",
       "      <th>state</th>\n",
       "      <th>time</th>\n",
       "      <th>dates</th>\n",
       "      <th>printable_dates</th>\n",
       "    </tr>\n",
       "  </thead>\n",
       "  <tbody>\n",
       "    <tr>\n",
       "      <th>2</th>\n",
       "      <td>Staande_Lamp_3</td>\n",
       "      <td>0</td>\n",
       "      <td>1509489940655</td>\n",
       "      <td>Tue Oct 31 23:45:40 2017</td>\n",
       "      <td>2017-10-31T23:45:40.655000</td>\n",
       "    </tr>\n",
       "    <tr>\n",
       "      <th>6</th>\n",
       "      <td>Staande_Lamp_5</td>\n",
       "      <td>1</td>\n",
       "      <td>1509490011225</td>\n",
       "      <td>Tue Oct 31 23:46:51 2017</td>\n",
       "      <td>2017-10-31T23:46:51.225000</td>\n",
       "    </tr>\n",
       "    <tr>\n",
       "      <th>0</th>\n",
       "      <td>Staande_Lamp_1</td>\n",
       "      <td>1</td>\n",
       "      <td>1509491943009</td>\n",
       "      <td>Wed Nov  1 00:19:03 2017</td>\n",
       "      <td>2017-11-01T00:19:03.009000</td>\n",
       "    </tr>\n",
       "    <tr>\n",
       "      <th>1</th>\n",
       "      <td>Staande_Lamp_2</td>\n",
       "      <td>0</td>\n",
       "      <td>1509492221471</td>\n",
       "      <td>Wed Nov  1 00:23:41 2017</td>\n",
       "      <td>2017-11-01T00:23:41.471000</td>\n",
       "    </tr>\n",
       "    <tr>\n",
       "      <th>3</th>\n",
       "      <td>Staande_Lamp_3</td>\n",
       "      <td>1</td>\n",
       "      <td>1509492826941</td>\n",
       "      <td>Wed Nov  1 00:33:46 2017</td>\n",
       "      <td>2017-11-01T00:33:46.941000</td>\n",
       "    </tr>\n",
       "  </tbody>\n",
       "</table>\n",
       "</div>"
      ],
      "text/plain": [
       "             name  state           time                     dates  \\\n",
       "2  Staande_Lamp_3      0  1509489940655  Tue Oct 31 23:45:40 2017   \n",
       "6  Staande_Lamp_5      1  1509490011225  Tue Oct 31 23:46:51 2017   \n",
       "0  Staande_Lamp_1      1  1509491943009  Wed Nov  1 00:19:03 2017   \n",
       "1  Staande_Lamp_2      0  1509492221471  Wed Nov  1 00:23:41 2017   \n",
       "3  Staande_Lamp_3      1  1509492826941  Wed Nov  1 00:33:46 2017   \n",
       "\n",
       "              printable_dates  \n",
       "2  2017-10-31T23:45:40.655000  \n",
       "6  2017-10-31T23:46:51.225000  \n",
       "0  2017-11-01T00:19:03.009000  \n",
       "1  2017-11-01T00:23:41.471000  \n",
       "3  2017-11-01T00:33:46.941000  "
      ]
     },
     "execution_count": 4,
     "metadata": {},
     "output_type": "execute_result"
    }
   ],
   "source": [
    "import datetime\n",
    "import time\n",
    "\n",
    "df_printable_dates = df_data.copy(deep=True)\n",
    "df_printable_dates['dates'] = df_data['time'].map(lambda x: time.ctime(x / 1000))\n",
    "df_printable_dates['printable_dates'] = df_data['time'].map(lambda x: datetime.datetime.fromtimestamp(x / 1000).isoformat())\n",
    "\n",
    "df_printable_dates.head()"
   ]
  },
  {
   "cell_type": "code",
   "execution_count": 5,
   "metadata": {},
   "outputs": [
    {
     "name": "stdout",
     "output_type": "stream",
     "text": [
      "before:\n",
      "              name  state           time\n",
      "2  Staande_Lamp_3      0  1509489940655\n",
      "6  Staande_Lamp_5      1  1509490011225\n",
      "0  Staande_Lamp_1      1  1509491943009\n",
      "1  Staande_Lamp_2      0  1509492221471\n",
      "3  Staande_Lamp_3      1  1509492826941\n",
      "after:\n",
      "    name  state           time\n",
      "2     2      0  1509489940655\n",
      "6     4      1  1509490011225\n",
      "0     0      1  1509491943009\n",
      "1     1      0  1509492221471\n",
      "3     2      1  1509492826941\n"
     ]
    }
   ],
   "source": [
    "from sklearn.preprocessing import LabelEncoder\n",
    "from collections import defaultdict\n",
    "\n",
    "print('before:\\n', df_data.head())\n",
    "\n",
    "d = defaultdict(LabelEncoder)\n",
    "df_fit = df_data.apply(lambda x: d[x.name].fit_transform(x))\n",
    "df_fit['time'] = df_data['time']\n",
    "print('after:\\n', df_fit.head())"
   ]
  },
  {
   "cell_type": "code",
   "execution_count": 17,
   "metadata": {},
   "outputs": [
    {
     "data": {
      "text/plain": [
       "AgglomerativeClustering(affinity='euclidean', compute_full_tree='auto',\n",
       "            connectivity=None, linkage='ward', memory=None, n_clusters=41,\n",
       "            pooling_func='deprecated')"
      ]
     },
     "execution_count": 17,
     "metadata": {},
     "output_type": "execute_result"
    }
   ],
   "source": [
    "from sklearn.cluster import AgglomerativeClustering\n",
    "\n",
    "amountOfDataRows = df_fit['name'].size\n",
    "\n",
    "model = AgglomerativeClustering(\n",
    "    affinity='euclidean', \n",
    "    compute_full_tree='auto',\n",
    "    connectivity=None, \n",
    "    linkage='ward', \n",
    "    memory=None, \n",
    "    n_clusters=amountOfDataRows - 1,\n",
    "    pooling_func='deprecated'\n",
    ").fit(df_fit)\n",
    "\n",
    "model"
   ]
  },
  {
   "cell_type": "code",
   "execution_count": null,
   "metadata": {},
   "outputs": [],
   "source": []
  }
 ],
 "metadata": {
  "kernelspec": {
   "display_name": "Python 3",
   "language": "python",
   "name": "python3"
  },
  "language_info": {
   "codemirror_mode": {
    "name": "ipython",
    "version": 3
   },
   "file_extension": ".py",
   "mimetype": "text/x-python",
   "name": "python",
   "nbconvert_exporter": "python",
   "pygments_lexer": "ipython3",
   "version": "3.6.5"
  }
 },
 "nbformat": 4,
 "nbformat_minor": 2
}
