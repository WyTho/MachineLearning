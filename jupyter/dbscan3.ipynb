{
 "cells": [
  {
   "cell_type": "markdown",
   "metadata": {},
   "source": [
    "## Imports"
   ]
  },
  {
   "cell_type": "code",
   "execution_count": 1,
   "metadata": {},
   "outputs": [],
   "source": [
    "import pandas as pd\n",
    "from pylab import rcParams\n",
    "import seaborn as sb\n",
    "import matplotlib.pyplot as plt\n",
    "\n",
    "import sklearn\n",
    "from sklearn.cluster import DBSCAN\n",
    "from collections import Counter\n",
    "import datetime"
   ]
  },
  {
   "cell_type": "markdown",
   "metadata": {},
   "source": [
    "##### Standard data visualisaton params for Jupyter"
   ]
  },
  {
   "cell_type": "code",
   "execution_count": 2,
   "metadata": {},
   "outputs": [],
   "source": [
    "\n",
    "%matplotlib inline\n",
    "rcParams['figure.figsize'] = 15, 0.1\n",
    "sb.set_style('whitegrid')"
   ]
  },
  {
   "cell_type": "markdown",
   "metadata": {},
   "source": [
    "## Getting the dataset"
   ]
  },
  {
   "cell_type": "code",
   "execution_count": 3,
   "metadata": {},
   "outputs": [],
   "source": [
    "address = '../datasets/staandelamp_realistic.json'\n",
    "df_data = pd.read_json(address)"
   ]
  },
  {
   "cell_type": "markdown",
   "metadata": {},
   "source": [
    "##### Sort the data on timestamp"
   ]
  },
  {
   "cell_type": "code",
   "execution_count": 4,
   "metadata": {},
   "outputs": [],
   "source": [
    "df_data = df_data.sort_values(by=['time'])"
   ]
  },
  {
   "cell_type": "markdown",
   "metadata": {},
   "source": [
    "##### <font color='red'>TEMP</font> Cut off the dataset (Grab around 6 hours of timestamps) <font color='red'>TEMP</font>"
   ]
  },
  {
   "cell_type": "code",
   "execution_count": 5,
   "metadata": {},
   "outputs": [],
   "source": [
    "df_data = df_data[:42]"
   ]
  },
  {
   "cell_type": "markdown",
   "metadata": {},
   "source": [
    "##### Show the first 5 entrys of the dataset"
   ]
  },
  {
   "cell_type": "code",
   "execution_count": 6,
   "metadata": {},
   "outputs": [
    {
     "data": {
      "text/html": [
       "<div>\n",
       "<style scoped>\n",
       "    .dataframe tbody tr th:only-of-type {\n",
       "        vertical-align: middle;\n",
       "    }\n",
       "\n",
       "    .dataframe tbody tr th {\n",
       "        vertical-align: top;\n",
       "    }\n",
       "\n",
       "    .dataframe thead th {\n",
       "        text-align: right;\n",
       "    }\n",
       "</style>\n",
       "<table border=\"1\" class=\"dataframe\">\n",
       "  <thead>\n",
       "    <tr style=\"text-align: right;\">\n",
       "      <th></th>\n",
       "      <th>name</th>\n",
       "      <th>state</th>\n",
       "      <th>time</th>\n",
       "    </tr>\n",
       "  </thead>\n",
       "  <tbody>\n",
       "    <tr>\n",
       "      <th>2</th>\n",
       "      <td>Staande_Lamp_3</td>\n",
       "      <td>0</td>\n",
       "      <td>1509489940655</td>\n",
       "    </tr>\n",
       "    <tr>\n",
       "      <th>6</th>\n",
       "      <td>Staande_Lamp_5</td>\n",
       "      <td>1</td>\n",
       "      <td>1509490011225</td>\n",
       "    </tr>\n",
       "    <tr>\n",
       "      <th>0</th>\n",
       "      <td>Staande_Lamp_1</td>\n",
       "      <td>1</td>\n",
       "      <td>1509491943009</td>\n",
       "    </tr>\n",
       "    <tr>\n",
       "      <th>1</th>\n",
       "      <td>Staande_Lamp_2</td>\n",
       "      <td>0</td>\n",
       "      <td>1509492221471</td>\n",
       "    </tr>\n",
       "    <tr>\n",
       "      <th>3</th>\n",
       "      <td>Staande_Lamp_3</td>\n",
       "      <td>1</td>\n",
       "      <td>1509492826941</td>\n",
       "    </tr>\n",
       "  </tbody>\n",
       "</table>\n",
       "</div>"
      ],
      "text/plain": [
       "             name  state           time\n",
       "2  Staande_Lamp_3      0  1509489940655\n",
       "6  Staande_Lamp_5      1  1509490011225\n",
       "0  Staande_Lamp_1      1  1509491943009\n",
       "1  Staande_Lamp_2      0  1509492221471\n",
       "3  Staande_Lamp_3      1  1509492826941"
      ]
     },
     "execution_count": 6,
     "metadata": {},
     "output_type": "execute_result"
    }
   ],
   "source": [
    "df_data.head()"
   ]
  },
  {
   "cell_type": "markdown",
   "metadata": {},
   "source": [
    "## Cleaning the dataset"
   ]
  },
  {
   "cell_type": "code",
   "execution_count": null,
   "metadata": {},
   "outputs": [],
   "source": []
  },
  {
   "cell_type": "markdown",
   "metadata": {},
   "source": [
    "##### Reformat the first column to iterables:\n",
    "<font color='#ccc'>\n",
    "    To prevent the following error when building the DBSCAN model<br>\n",
    "    ValueError: could not convert string to float: 'Staande_Lamp_5'\n",
    "</font> "
   ]
  },
  {
   "cell_type": "code",
   "execution_count": 7,
   "metadata": {},
   "outputs": [],
   "source": [
    "from sklearn.preprocessing import LabelEncoder\n",
    "from collections import defaultdict\n",
    "\n",
    "d = defaultdict(LabelEncoder)\n",
    "df_fit = df_data.apply(lambda x: d[x.name].fit_transform(x))\n",
    "df_fit['time'] = df_data['time']"
   ]
  },
  {
   "cell_type": "markdown",
   "metadata": {},
   "source": [
    "##### Show the changes to the dataset"
   ]
  },
  {
   "cell_type": "code",
   "execution_count": 8,
   "metadata": {},
   "outputs": [
    {
     "name": "stdout",
     "output_type": "stream",
     "text": [
      "before:\n",
      "              name  state           time\n",
      "2  Staande_Lamp_3      0  1509489940655\n",
      "6  Staande_Lamp_5      1  1509490011225\n",
      "0  Staande_Lamp_1      1  1509491943009\n",
      "1  Staande_Lamp_2      0  1509492221471\n",
      "3  Staande_Lamp_3      1  1509492826941\n",
      "\n",
      "\n",
      "after:\n",
      "    name  state           time\n",
      "2     2      0  1509489940655\n",
      "6     4      1  1509490011225\n",
      "0     0      1  1509491943009\n",
      "1     1      0  1509492221471\n",
      "3     2      1  1509492826941\n"
     ]
    }
   ],
   "source": [
    "print('before:\\n', df_data.head())\n",
    "print('\\n')\n",
    "print('after:\\n', df_fit.head())"
   ]
  },
  {
   "cell_type": "markdown",
   "metadata": {},
   "source": []
  },
  {
   "cell_type": "markdown",
   "metadata": {},
   "source": [
    "## Setup variables\n",
    "(300000 milliseconds = 5 minutes)"
   ]
  },
  {
   "cell_type": "code",
   "execution_count": 9,
   "metadata": {},
   "outputs": [],
   "source": [
    "five_minutes = 300000\n",
    "min_samples_untill_its_a_cluster = 2\n"
   ]
  },
  {
   "cell_type": "markdown",
   "metadata": {},
   "source": [
    "## Fit the model"
   ]
  },
  {
   "cell_type": "code",
   "execution_count": 10,
   "metadata": {},
   "outputs": [],
   "source": [
    "model = DBSCAN(\n",
    "    eps=five_minutes, \n",
    "    min_samples=min_samples_untill_its_a_cluster\n",
    ").fit(df_fit)"
   ]
  },
  {
   "cell_type": "markdown",
   "metadata": {},
   "source": [
    "## Clustering"
   ]
  },
  {
   "cell_type": "code",
   "execution_count": 11,
   "metadata": {},
   "outputs": [
    {
     "name": "stdout",
     "output_type": "stream",
     "text": [
      "datapoints per cluster (count) Counter({-1: 12, 2: 5, 6: 4, 10: 4, 7: 3, 0: 2, 1: 2, 3: 2, 4: 2, 5: 2, 8: 2, 9: 2})\n",
      "amount of clusters (count) 10\n",
      "amount of data: 42\n",
      "amount of outliers: 12\n",
      "\n",
      "some of the outliers:\n",
      "     name  state           time\n",
      "12     3      0  1509494311740\n",
      "13     4      1  1509495178373\n",
      "11     2      0  1509496790877\n",
      "19     3      0  1509498728417\n",
      "18     2      0  1509499036484\n"
     ]
    }
   ],
   "source": [
    "# DEBUG DINGEN\n",
    "print('datapoints per cluster (count)', Counter(model.labels_))\n",
    "print('amount of clusters (count)', max(Counter(model.labels_)))\n",
    "print('amount of data:', df_fit.shape[0])\n",
    "print('amount of outliers:', df_fit[model.labels_==-1].shape[0])\n",
    "print('\\nsome of the outliers:\\n', df_fit[model.labels_==-1].head())"
   ]
  },
  {
   "cell_type": "code",
   "execution_count": 17,
   "metadata": {},
   "outputs": [
    {
     "data": {
      "text/plain": [
       "10"
      ]
     },
     "execution_count": 17,
     "metadata": {},
     "output_type": "execute_result"
    }
   ],
   "source": [
    "amount_of_clusters = max(Counter(model.labels_))\n",
    "amount_of_clusters"
   ]
  },
  {
   "cell_type": "code",
   "execution_count": null,
   "metadata": {},
   "outputs": [],
   "source": []
  },
  {
   "cell_type": "markdown",
   "metadata": {},
   "source": [
    "## Add clusters to the dataset"
   ]
  },
  {
   "cell_type": "code",
   "execution_count": 13,
   "metadata": {},
   "outputs": [],
   "source": [
    "df_data = df_data\n",
    "df_data['cluster'] = model.labels_"
   ]
  },
  {
   "cell_type": "markdown",
   "metadata": {},
   "source": [
    "##### Remove outliers"
   ]
  },
  {
   "cell_type": "code",
   "execution_count": 14,
   "metadata": {},
   "outputs": [],
   "source": [
    "df_data = df_data.loc[df_data['cluster'] != -1]"
   ]
  },
  {
   "cell_type": "code",
   "execution_count": 15,
   "metadata": {},
   "outputs": [
    {
     "data": {
      "text/html": [
       "<div>\n",
       "<style scoped>\n",
       "    .dataframe tbody tr th:only-of-type {\n",
       "        vertical-align: middle;\n",
       "    }\n",
       "\n",
       "    .dataframe tbody tr th {\n",
       "        vertical-align: top;\n",
       "    }\n",
       "\n",
       "    .dataframe thead th {\n",
       "        text-align: right;\n",
       "    }\n",
       "</style>\n",
       "<table border=\"1\" class=\"dataframe\">\n",
       "  <thead>\n",
       "    <tr style=\"text-align: right;\">\n",
       "      <th></th>\n",
       "      <th>name</th>\n",
       "      <th>state</th>\n",
       "      <th>time</th>\n",
       "      <th>cluster</th>\n",
       "    </tr>\n",
       "  </thead>\n",
       "  <tbody>\n",
       "    <tr>\n",
       "      <th>2</th>\n",
       "      <td>Staande_Lamp_3</td>\n",
       "      <td>0</td>\n",
       "      <td>1509489940655</td>\n",
       "      <td>0</td>\n",
       "    </tr>\n",
       "    <tr>\n",
       "      <th>6</th>\n",
       "      <td>Staande_Lamp_5</td>\n",
       "      <td>1</td>\n",
       "      <td>1509490011225</td>\n",
       "      <td>0</td>\n",
       "    </tr>\n",
       "    <tr>\n",
       "      <th>0</th>\n",
       "      <td>Staande_Lamp_1</td>\n",
       "      <td>1</td>\n",
       "      <td>1509491943009</td>\n",
       "      <td>1</td>\n",
       "    </tr>\n",
       "    <tr>\n",
       "      <th>1</th>\n",
       "      <td>Staande_Lamp_2</td>\n",
       "      <td>0</td>\n",
       "      <td>1509492221471</td>\n",
       "      <td>1</td>\n",
       "    </tr>\n",
       "    <tr>\n",
       "      <th>3</th>\n",
       "      <td>Staande_Lamp_3</td>\n",
       "      <td>1</td>\n",
       "      <td>1509492826941</td>\n",
       "      <td>2</td>\n",
       "    </tr>\n",
       "  </tbody>\n",
       "</table>\n",
       "</div>"
      ],
      "text/plain": [
       "             name  state           time  cluster\n",
       "2  Staande_Lamp_3      0  1509489940655        0\n",
       "6  Staande_Lamp_5      1  1509490011225        0\n",
       "0  Staande_Lamp_1      1  1509491943009        1\n",
       "1  Staande_Lamp_2      0  1509492221471        1\n",
       "3  Staande_Lamp_3      1  1509492826941        2"
      ]
     },
     "execution_count": 15,
     "metadata": {},
     "output_type": "execute_result"
    }
   ],
   "source": [
    "df_data.head()"
   ]
  },
  {
   "cell_type": "markdown",
   "metadata": {},
   "source": [
    "### Split up the clusters into multiple dataframes & remove the cluster column"
   ]
  },
  {
   "cell_type": "code",
   "execution_count": 34,
   "metadata": {},
   "outputs": [
    {
     "name": "stdout",
     "output_type": "stream",
     "text": [
      "CLUSTER 0\n",
      "             name  state           time\n",
      "2  Staande_Lamp_3      0  1509489940655\n",
      "6  Staande_Lamp_5      1  1509490011225\n",
      "\n",
      "\n",
      "\n",
      "CLUSTER 1\n",
      "             name  state           time\n",
      "0  Staande_Lamp_1      1  1509491943009\n",
      "1  Staande_Lamp_2      0  1509492221471\n",
      "\n",
      "\n",
      "\n",
      "CLUSTER 2\n",
      "             name  state           time\n",
      "3  Staande_Lamp_3      1  1509492826941\n",
      "4  Staande_Lamp_3      1  1509492860451\n",
      "7  Staande_Lamp_1      1  1509492904889\n",
      "5  Staande_Lamp_4      0  1509492910368\n",
      "8  Staande_Lamp_2      0  1509492983553\n",
      "\n",
      "\n",
      "\n",
      "CLUSTER 3\n",
      "              name  state           time\n",
      "9   Staande_Lamp_3      1  1509495776509\n",
      "10  Staande_Lamp_3      1  1509496070897\n",
      "\n",
      "\n",
      "\n",
      "CLUSTER 4\n",
      "              name  state           time\n",
      "16  Staande_Lamp_3      0  1509497372654\n",
      "20  Staande_Lamp_5      0  1509497587456\n",
      "\n",
      "\n",
      "\n",
      "CLUSTER 5\n",
      "              name  state           time\n",
      "14  Staande_Lamp_1      1  1509497980691\n",
      "15  Staande_Lamp_2      0  1509498130379\n",
      "\n",
      "\n",
      "\n",
      "CLUSTER 6\n",
      "              name  state           time\n",
      "27  Staande_Lamp_5      1  1509501685952\n",
      "26  Staande_Lamp_4      1  1509501895396\n",
      "21  Staande_Lamp_1      1  1509502111561\n",
      "22  Staande_Lamp_2      1  1509502163379\n",
      "\n",
      "\n",
      "\n",
      "CLUSTER 7\n",
      "              name  state           time\n",
      "30  Staande_Lamp_3      1  1509504580282\n",
      "25  Staande_Lamp_3      1  1509504702728\n",
      "34  Staande_Lamp_5      0  1509504771670\n",
      "\n",
      "\n",
      "\n",
      "CLUSTER 8\n",
      "              name  state           time\n",
      "29  Staande_Lamp_2      0  1509505077175\n",
      "28  Staande_Lamp_1      0  1509505277450\n",
      "\n",
      "\n",
      "\n",
      "CLUSTER 9\n",
      "              name  state           time\n",
      "33  Staande_Lamp_4      1  1509506037524\n",
      "32  Staande_Lamp_3      1  1509506329828\n",
      "\n",
      "\n",
      "\n"
     ]
    }
   ],
   "source": [
    "cluster_dict = {}\n",
    "\n",
    "for idx in range(amount_of_clusters):\n",
    "    cluster_dict[idx] = df_data.loc[df_data['cluster'] == idx, ['name', 'state', 'time']]\n",
    "    print('CLUSTER', idx)\n",
    "    print(cluster_dict[idx])\n",
    "    print('\\n\\n')\n"
   ]
  },
  {
   "cell_type": "code",
   "execution_count": 64,
   "metadata": {},
   "outputs": [
    {
     "name": "stdout",
     "output_type": "stream",
     "text": [
      "cluster 6\n",
      "fisrt time in cluster --> 1509501685952\n",
      "last time in cluster  --> 1509502163379\n",
      "diff in milliseconds  --> 477427\n",
      "diff in minutes       --> 7.957116666666667\n",
      "diff in minutes > 5 ? --> True\n",
      "\n",
      "\n"
     ]
    },
    {
     "data": {
      "text/plain": [
       "{6:               name  state           time\n",
       " 27  Staande_Lamp_5      1  1509501685952\n",
       " 26  Staande_Lamp_4      1  1509501895396\n",
       " 21  Staande_Lamp_1      1  1509502111561\n",
       " 22  Staande_Lamp_2      1  1509502163379}"
      ]
     },
     "execution_count": 64,
     "metadata": {},
     "output_type": "execute_result"
    }
   ],
   "source": [
    "too_large_clusters_dataframes_dict = {}\n",
    "\n",
    "for idx, df in cluster_dict.items():\n",
    "    \n",
    "    first_time = df['time'].iloc[0]\n",
    "    last_time = df['time'].iloc[df['time'].size - 1]\n",
    "    \n",
    "    diffrence_in_miliseconds = last_time - first_time\n",
    "    diffrence_in_minutes = diffrence_in_miliseconds / 1000 / 60\n",
    "\n",
    "    \n",
    "    if diffrence_in_minutes > 5:\n",
    "        print('cluster', idx)\n",
    "        print('fisrt time in cluster -->', first_time)\n",
    "        print('last time in cluster  -->', last_time)\n",
    "        print('diff in milliseconds  -->', diffrence_in_miliseconds)\n",
    "        print('diff in minutes       -->', diffrence_in_minutes)\n",
    "        print('diff in minutes > 5 ? -->', diffrence_in_minutes > 5)\n",
    "        print('\\n')\n",
    "        too_large_clusters_dataframes_dict[idx] = df\n",
    "\n",
    "too_large_clusters_dataframes_dict"
   ]
  },
  {
   "cell_type": "code",
   "execution_count": null,
   "metadata": {},
   "outputs": [],
   "source": [
    "# count_dict = {}\n",
    "# \n",
    "# for idx, row in df_data.iterrows():\n",
    "#     if count_dict[row['cluster']] is None:\n",
    "#         count_dict[row['cluster']] = 0\n",
    "#         \n",
    "#     count_dict[row['cluster']] += 1\n",
    "# count_dict"
   ]
  },
  {
   "cell_type": "markdown",
   "metadata": {},
   "source": [
    "##### Create a color dictionary for the scatter-plot"
   ]
  },
  {
   "cell_type": "code",
   "execution_count": null,
   "metadata": {},
   "outputs": [],
   "source": [
    "# COLOR_MAP = {}\n",
    "# for n in set(model.labels_):\n",
    "#     if n % 3 == 0:\n",
    "#         COLOR_MAP[n] = 'firebrick'\n",
    "#     elif n % 3 == 1:\n",
    "#         COLOR_MAP[n] = 'darkgreen'\n",
    "#     else:\n",
    "#         COLOR_MAP[n] = 'darkblue'\n",
    "# \n",
    "# #Outliers\n",
    "# COLOR_MAP[-1] = 'lightgrey'\n",
    "# \n",
    "# print('All of the datapoints:\\n', model.labels_)\n",
    "# print('\\n')\n",
    "# print('One color for each datapoint:\\n', set(model.labels_))"
   ]
  },
  {
   "cell_type": "markdown",
   "metadata": {},
   "source": [
    "##### Create the graph"
   ]
  },
  {
   "cell_type": "code",
   "execution_count": null,
   "metadata": {},
   "outputs": [],
   "source": [
    "# fig = plt.figure()\n",
    "# ax = fig.add_axes([.1, .1, 1, 1])\n",
    "# \n",
    "# colors = [COLOR_MAP[l] for l in model.labels_]\n",
    "# \n",
    "# # colors = model.labels_\n",
    "# \n",
    "# # use first column as X value\n",
    "# X = df_fit.iloc[:,2]\n",
    "# # set nr 1 as the value for y so it will be 1Dimentional\n",
    "# Y = [1] * df_fit.shape[0]\n",
    "# \n",
    "# ax.scatter(X, Y, c=colors, s=20)\n",
    "# ax.set_xlabel = 'time'\n",
    "# plt.title = 'Groupingz'"
   ]
  },
  {
   "cell_type": "code",
   "execution_count": null,
   "metadata": {},
   "outputs": [],
   "source": []
  },
  {
   "cell_type": "markdown",
   "metadata": {},
   "source": [
    "![title](../datasets/images/expected_6_hours_realistic_legend.png)\n",
    "![title](../datasets/images/expected_6_hours_realistic_sub_clustering.png)"
   ]
  },
  {
   "cell_type": "code",
   "execution_count": null,
   "metadata": {},
   "outputs": [],
   "source": []
  },
  {
   "cell_type": "code",
   "execution_count": null,
   "metadata": {},
   "outputs": [],
   "source": []
  },
  {
   "cell_type": "code",
   "execution_count": null,
   "metadata": {},
   "outputs": [],
   "source": []
  }
 ],
 "metadata": {
  "kernelspec": {
   "display_name": "Python 3",
   "language": "python",
   "name": "python3"
  },
  "language_info": {
   "codemirror_mode": {
    "name": "ipython",
    "version": 3
   },
   "file_extension": ".py",
   "mimetype": "text/x-python",
   "name": "python",
   "nbconvert_exporter": "python",
   "pygments_lexer": "ipython3",
   "version": "3.6.5"
  }
 },
 "nbformat": 4,
 "nbformat_minor": 2
}
