{
 "cells": [
  {
   "cell_type": "markdown",
   "metadata": {},
   "source": [
    "## Global Imports"
   ]
  },
  {
   "cell_type": "code",
   "execution_count": 1,
   "metadata": {},
   "outputs": [],
   "source": [
    "import pandas as pd\n",
    "import matplotlib.pyplot as plt\n",
    "import sklearn\n",
    "import numpy as np\n",
    "import time"
   ]
  },
  {
   "cell_type": "markdown",
   "metadata": {},
   "source": [
    "## Setup Jupyter Notebook data visualisaton params"
   ]
  },
  {
   "cell_type": "code",
   "execution_count": 2,
   "metadata": {},
   "outputs": [],
   "source": [
    "from pylab import rcParams\n",
    "import seaborn as sb\n",
    "\n",
    "%matplotlib inline\n",
    "rcParams['figure.figsize'] = 15, 12\n",
    "sb.set_style('whitegrid')"
   ]
  },
  {
   "cell_type": "markdown",
   "metadata": {},
   "source": [
    "## Import dataset"
   ]
  },
  {
   "cell_type": "code",
   "execution_count": 3,
   "metadata": {},
   "outputs": [
    {
     "name": "stdout",
     "output_type": "stream",
     "text": [
      "(16, 3)\n"
     ]
    },
    {
     "data": {
      "text/html": [
       "<div>\n",
       "<style scoped>\n",
       "    .dataframe tbody tr th:only-of-type {\n",
       "        vertical-align: middle;\n",
       "    }\n",
       "\n",
       "    .dataframe tbody tr th {\n",
       "        vertical-align: top;\n",
       "    }\n",
       "\n",
       "    .dataframe thead th {\n",
       "        text-align: right;\n",
       "    }\n",
       "</style>\n",
       "<table border=\"1\" class=\"dataframe\">\n",
       "  <thead>\n",
       "    <tr style=\"text-align: right;\">\n",
       "      <th></th>\n",
       "      <th>name</th>\n",
       "      <th>state</th>\n",
       "      <th>time</th>\n",
       "    </tr>\n",
       "  </thead>\n",
       "  <tbody>\n",
       "    <tr>\n",
       "      <th>2</th>\n",
       "      <td>Staande_Lamp_3</td>\n",
       "      <td>0</td>\n",
       "      <td>1</td>\n",
       "    </tr>\n",
       "    <tr>\n",
       "      <th>6</th>\n",
       "      <td>Staande_Lamp_5</td>\n",
       "      <td>1</td>\n",
       "      <td>2</td>\n",
       "    </tr>\n",
       "    <tr>\n",
       "      <th>0</th>\n",
       "      <td>Staande_Lamp_1</td>\n",
       "      <td>1</td>\n",
       "      <td>3</td>\n",
       "    </tr>\n",
       "    <tr>\n",
       "      <th>1</th>\n",
       "      <td>Staande_Lamp_2</td>\n",
       "      <td>0</td>\n",
       "      <td>4</td>\n",
       "    </tr>\n",
       "    <tr>\n",
       "      <th>3</th>\n",
       "      <td>Staande_Lamp_3</td>\n",
       "      <td>1</td>\n",
       "      <td>8</td>\n",
       "    </tr>\n",
       "  </tbody>\n",
       "</table>\n",
       "</div>"
      ],
      "text/plain": [
       "             name  state  time\n",
       "2  Staande_Lamp_3      0     1\n",
       "6  Staande_Lamp_5      1     2\n",
       "0  Staande_Lamp_1      1     3\n",
       "1  Staande_Lamp_2      0     4\n",
       "3  Staande_Lamp_3      1     8"
      ]
     },
     "execution_count": 3,
     "metadata": {},
     "output_type": "execute_result"
    }
   ],
   "source": [
    "address = '../datasets/staandelamp_realistic.json'\n",
    "df_data = pd.read_json(address)\n",
    "\n",
    "# Sort the data on timestamp\n",
    "df_data = df_data.sort_values(by=['time'])\n",
    "\n",
    "# Grab around 6 hours of timestamps\n",
    "### TEMP ###\n",
    "df_data = df_data[:16]   #42\n",
    "### TEMP ###\n",
    "df_data.iloc[0, (2)] = 1\n",
    "df_data.iloc[1, (2)] = 2\n",
    "df_data.iloc[2, (2)] = 3\n",
    "df_data.iloc[3, (2)] = 4\n",
    "df_data.iloc[4, (2)] = 8\n",
    "df_data.iloc[5, (2)] = 9\n",
    "df_data.iloc[6, (2)] = 100\n",
    "df_data.iloc[7, (2)] = 125\n",
    "df_data.iloc[8, (2)] = 60\n",
    "df_data.iloc[9, (2)] = 61\n",
    "df_data.iloc[10, (2)] = 62\n",
    "df_data.iloc[11, (2)] = 63\n",
    "df_data.iloc[12, (2)] = 64\n",
    "df_data.iloc[13, (2)] = 65\n",
    "df_data.iloc[14, (2)] = 66\n",
    "df_data.iloc[15, (2)] = 67\n",
    "\n",
    "print(df_data.shape)\n",
    "\n",
    "df_data.head()"
   ]
  },
  {
   "cell_type": "markdown",
   "metadata": {},
   "source": [
    "### (optional) Make a dataset for debugging purposes (so the date and time is human-readable) "
   ]
  },
  {
   "cell_type": "code",
   "execution_count": 4,
   "metadata": {},
   "outputs": [],
   "source": [
    "# import datetime\n",
    "# import time\n",
    "# df_printable_dates = pd.DataFrame()\n",
    "# df_printable_dates['time'] = df_data['time']\n",
    "# df_printable_dates['printable_dates'] = df_data['time'].map(lambda x: datetime.datetime.fromtimestamp(x / 1000).isoformat())\n",
    "# \n",
    "# df_printable_dates.head()"
   ]
  },
  {
   "cell_type": "markdown",
   "metadata": {},
   "source": [
    "# Determine the number of clusters (linkage)"
   ]
  },
  {
   "cell_type": "markdown",
   "metadata": {},
   "source": [
    "#### only interested in column TIME"
   ]
  },
  {
   "cell_type": "code",
   "execution_count": 5,
   "metadata": {},
   "outputs": [
    {
     "data": {
      "text/plain": [
       "array([[1],\n",
       "       [2],\n",
       "       [3],\n",
       "       [4],\n",
       "       [8]], dtype=int64)"
      ]
     },
     "execution_count": 5,
     "metadata": {},
     "output_type": "execute_result"
    }
   ],
   "source": [
    "\n",
    "X = df_data.iloc[ :, [2] ].values\n",
    "#                 :        All the rows\n",
    "#                    [2]   Only column 2 (time)\n",
    "\n",
    "X[:5]"
   ]
  },
  {
   "cell_type": "markdown",
   "metadata": {},
   "source": [
    "##### Plot the timestamps and a line indicating 5 minutes"
   ]
  },
  {
   "cell_type": "code",
   "execution_count": 6,
   "metadata": {},
   "outputs": [
    {
     "data": {
      "text/plain": [
       "<matplotlib.lines.Line2D at 0x2264a636d68>"
      ]
     },
     "execution_count": 6,
     "metadata": {},
     "output_type": "execute_result"
    },
    {
     "data": {
      "image/png": "[encoded data removed]",
      "text/plain": [
       "<Figure size 1080x864 with 1 Axes>"
      ]
     },
     "metadata": {},
     "output_type": "display_data"
    }
   ],
   "source": [
    "from scipy.cluster.hierarchy import dendrogram, linkage\n",
    "Z = linkage(X, method='complete')\n",
    "gram = dendrogram(\n",
    "    Z, \n",
    "    labels=X,\n",
    "    # truncate_mode='lastp', \n",
    "    # p=12, \n",
    "    # leaf_rotation=45., \n",
    "    # leaf_font_size=15., \n",
    "    # show_contracted=True\n",
    ")\n",
    "plt.title('Dendrogram')\n",
    "plt.xlabel('Timestamps')\n",
    "plt.ylabel('Eucledian Distance')\n",
    "\n",
    "# This line represents a distance of 5 minutes\n",
    "plt.axhline(y=300000)"
   ]
  },
  {
   "cell_type": "code",
   "execution_count": 7,
   "metadata": {},
   "outputs": [
    {
     "name": "stdout",
     "output_type": "stream",
     "text": [
      "Z[0][0] 0.0\n",
      "\n",
      "idx: 0\n",
      "< five_minutes: TRUE\n",
      "val: 0.0 - 1.0 - 1.0 - 2.0 \n",
      "\n",
      "\n",
      "idx: 1\n",
      "< five_minutes: TRUE\n",
      "val: 2.0 - 3.0 - 1.0 - 2.0 \n",
      "\n",
      "\n",
      "idx: 2\n",
      "< five_minutes: TRUE\n",
      "val: 4.0 - 5.0 - 1.0 - 2.0 \n",
      "\n",
      "\n",
      "idx: 3\n",
      "< five_minutes: TRUE\n",
      "val: 8.0 - 9.0 - 1.0 - 2.0 \n",
      "\n",
      "\n",
      "idx: 4\n",
      "< five_minutes: TRUE\n",
      "val: 10.0 - 11.0 - 1.0 - 2.0 \n",
      "\n",
      "\n",
      "idx: 5\n",
      "< five_minutes: TRUE\n",
      "val: 12.0 - 13.0 - 1.0 - 2.0 \n",
      "\n",
      "\n",
      "idx: 6\n",
      "< five_minutes: TRUE\n",
      "val: 14.0 - 15.0 - 1.0 - 2.0 \n",
      "\n",
      "\n",
      "idx: 7\n",
      "< five_minutes: TRUE\n",
      "val: 16.0 - 17.0 - 3.0 - 4.0 \n",
      "\n",
      "\n",
      "idx: 8\n",
      "< five_minutes: TRUE\n",
      "val: 19.0 - 20.0 - 3.0 - 4.0 \n",
      "\n",
      "\n",
      "idx: 9\n",
      "< five_minutes: TRUE\n",
      "val: 21.0 - 22.0 - 3.0 - 4.0 \n",
      "\n",
      "\n",
      "idx: 10\n",
      "val: 24.0 - 25.0 - 7.0 - 8.0 \n",
      "\n",
      "\n",
      "idx: 11\n",
      "val: 18.0 - 23.0 - 8.0 - 6.0 \n",
      "\n",
      "\n",
      "idx: 12\n",
      "val: 6.0 - 7.0 - 25.0 - 2.0 \n",
      "\n",
      "\n",
      "idx: 13\n",
      "val: 26.0 - 28.0 - 65.0 - 10.0 \n",
      "\n",
      "\n",
      "idx: 14\n",
      "val: 27.0 - 29.0 - 124.0 - 16.0 \n",
      "\n"
     ]
    }
   ],
   "source": [
    "# Debug Z\n",
    "\n",
    "five_minutes = 5\n",
    "\n",
    "print('Z[0][0]', Z[0][0])\n",
    "\n",
    "clusters_with_distance_of_five_minutes_or_less = 0\n",
    "for idx, val in enumerate(Z):\n",
    "    \n",
    "    print(\n",
    "        '\\nidx:', idx\n",
    "    )\n",
    "    # Count Z with a distance of less than 10 minutes\n",
    "    if(val[2] < five_minutes): \n",
    "        print('< five_minutes: TRUE')\n",
    "        clusters_with_distance_of_five_minutes_or_less += 1\n",
    "    \n",
    "    # debug a couple of the Z's\n",
    "    # if(idx == 0 or idx == 1 or idx == 2 or idx == 30):\n",
    "    print(\n",
    "        'val:', val[0], '-', val[1], '-', val[2], '-', val[3], '\\n'\n",
    "    )\n",
    "\n",
    "clusters = []"
   ]
  },
  {
   "cell_type": "code",
   "execution_count": 8,
   "metadata": {},
   "outputs": [
    {
     "name": "stdout",
     "output_type": "stream",
     "text": [
      "10 of 15 clusters have a distance less than 5 minutes OR SOMETHING\n"
     ]
    }
   ],
   "source": [
    "total_number_of_clusters = Z.shape[0]\n",
    "print(\n",
    "    clusters_with_distance_of_five_minutes_or_less, \n",
    "    'of', \n",
    "    total_number_of_clusters, \n",
    "    'clusters have a distance less than 5 minutes OR SOMETHING'\n",
    ")"
   ]
  },
  {
   "cell_type": "markdown",
   "metadata": {},
   "source": [
    "# AgglomerativeClustering"
   ]
  },
  {
   "cell_type": "code",
   "execution_count": 9,
   "metadata": {},
   "outputs": [],
   "source": [
    "## Format the dataset to be all numbers"
   ]
  },
  {
   "cell_type": "code",
   "execution_count": 10,
   "metadata": {},
   "outputs": [
    {
     "name": "stdout",
     "output_type": "stream",
     "text": [
      "before:\n",
      "              name  state  time\n",
      "2  Staande_Lamp_3      0     1\n",
      "6  Staande_Lamp_5      1     2\n",
      "0  Staande_Lamp_1      1     3\n",
      "1  Staande_Lamp_2      0     4\n",
      "3  Staande_Lamp_3      1     8\n",
      "after:\n",
      "    name  state  time\n",
      "2     2      0     1\n",
      "6     4      1     2\n",
      "0     0      1     3\n",
      "1     1      0     4\n",
      "3     2      1     8\n"
     ]
    }
   ],
   "source": [
    "from sklearn.preprocessing import LabelEncoder\n",
    "from collections import defaultdict\n",
    "\n",
    "print('before:\\n', df_data.head())\n",
    "\n",
    "d = defaultdict(LabelEncoder)\n",
    "df_fit = df_data.apply(lambda x: d[x.name].fit_transform(x))\n",
    "df_fit['time'] = df_data['time']\n",
    "print('after:\\n', df_fit.head())"
   ]
  },
  {
   "cell_type": "code",
   "execution_count": 11,
   "metadata": {},
   "outputs": [
    {
     "data": {
      "text/plain": [
       "AgglomerativeClustering(affinity='euclidean', compute_full_tree='auto',\n",
       "            connectivity=None, linkage='complete', memory=None,\n",
       "            n_clusters=10, pooling_func='deprecated')"
      ]
     },
     "execution_count": 11,
     "metadata": {},
     "output_type": "execute_result"
    }
   ],
   "source": [
    "from sklearn.cluster import AgglomerativeClustering\n",
    "import sklearn.metrics as sm\n",
    "\n",
    "# amountOfDataRows = df_fit['name'].size\n",
    "\n",
    "model = AgglomerativeClustering(\n",
    "    affinity='euclidean', \n",
    "    compute_full_tree='auto',\n",
    "    connectivity=None, \n",
    "    linkage='complete', \n",
    "    memory=None, \n",
    "    n_clusters=clusters_with_distance_of_five_minutes_or_less,\n",
    "    pooling_func='deprecated'\n",
    ")\n",
    "\n",
    "model"
   ]
  },
  {
   "cell_type": "code",
   "execution_count": 12,
   "metadata": {},
   "outputs": [],
   "source": [
    "#sm.accuracy_score(df_data.iloc[:, (2)], model.labels_)\n",
    "\n",
    "predicted_clusters = model.fit(df_fit).labels_"
   ]
  },
  {
   "cell_type": "code",
   "execution_count": 13,
   "metadata": {},
   "outputs": [],
   "source": [
    "# predicted_clusters = model.fit_predict(df_fit)\n",
    "# predicted_clusters"
   ]
  },
  {
   "cell_type": "code",
   "execution_count": 14,
   "metadata": {},
   "outputs": [],
   "source": [
    "### Find outliers"
   ]
  },
  {
   "cell_type": "code",
   "execution_count": 15,
   "metadata": {},
   "outputs": [
    {
     "name": "stdout",
     "output_type": "stream",
     "text": [
      "outliers:\n",
      " [7, 9, 6, 4]\n"
     ]
    }
   ],
   "source": [
    "outlier_dict = {}\n",
    "for i in model.labels_: outlier_dict[i] = i in outlier_dict\n",
    "outliers = [k for k in outlier_dict if not outlier_dict[k]]\n",
    "\n",
    "print('outliers:\\n', outliers)"
   ]
  },
  {
   "cell_type": "code",
   "execution_count": 16,
   "metadata": {},
   "outputs": [],
   "source": [
    "### Make a color map for all groups and outliers (for plotting)"
   ]
  },
  {
   "cell_type": "code",
   "execution_count": 17,
   "metadata": {},
   "outputs": [
    {
     "name": "stdout",
     "output_type": "stream",
     "text": [
      "All of the datapoints:\n",
      " [0 0 1 1 8 8 7 9 6 2 2 3 3 5 5 4]\n",
      "One color for each datapoint:\n",
      " {0, 1, 2, 3, 4, 5, 6, 7, 8, 9}\n"
     ]
    }
   ],
   "source": [
    "COLOR_MAP = {}\n",
    "group_count = 0;\n",
    "for n in set(model.labels_):\n",
    "    if n in outliers:\n",
    "        COLOR_MAP[n] = 'lightgrey'\n",
    "    else:\n",
    "        if group_count % 7 == 0:\n",
    "            COLOR_MAP[n] = 'firebrick'\n",
    "        elif group_count % 7 == 1:\n",
    "            COLOR_MAP[n] = 'darkgreen'\n",
    "        elif group_count % 7 == 2:\n",
    "            COLOR_MAP[n] = 'purple'\n",
    "        elif group_count % 7 == 3:\n",
    "            COLOR_MAP[n] = 'darkorange'\n",
    "        elif group_count % 7 == 4:\n",
    "            COLOR_MAP[n] = 'Teal'\n",
    "        elif group_count % 7 == 5:\n",
    "            COLOR_MAP[n] = 'Olive'\n",
    "        elif group_count % 7 == 6:\n",
    "            COLOR_MAP[n] = 'Green'\n",
    "        else:\n",
    "            COLOR_MAP[n] = 'darkblue'\n",
    "        group_count += 1\n",
    "\n",
    "print('All of the datapoints:\\n', model.labels_)\n",
    "print('One color for each datapoint:\\n', set(model.labels_))"
   ]
  },
  {
   "cell_type": "code",
   "execution_count": 18,
   "metadata": {},
   "outputs": [
    {
     "data": {
      "image/png": "[encoded data removed]",
      "text/plain": [
       "<Figure size 1080x288 with 1 Axes>"
      ]
     },
     "metadata": {},
     "output_type": "display_data"
    }
   ],
   "source": [
    "# Make figure smaller:\n",
    "rcParams['figure.figsize'] = 15, 4\n",
    "\n",
    "fig = plt.figure()\n",
    "ax = fig.add_axes([.1, .1, 1, 1])\n",
    "\n",
    "colors = [COLOR_MAP[l] for l in model.labels_]\n",
    "\n",
    "# use first column as X value\n",
    "XX = df_fit.iloc[:,2]\n",
    "# set nr 1 as the value for y so it will be 1Dimentional\n",
    "YY = [1] * df_fit.shape[0]\n",
    "\n",
    "ax.scatter(XX, YY, c=colors, s=20)\n",
    "ax.set_xlabel = 'time'\n",
    "plt.title = 'Groupingz'\n"
   ]
  },
  {
   "cell_type": "code",
   "execution_count": null,
   "metadata": {},
   "outputs": [],
   "source": []
  }
 ],
 "metadata": {
  "kernelspec": {
   "display_name": "Python 3",
   "language": "python",
   "name": "python3"
  },
  "language_info": {
   "codemirror_mode": {
    "name": "ipython",
    "version": 3
   },
   "file_extension": ".py",
   "mimetype": "text/x-python",
   "name": "python",
   "nbconvert_exporter": "python",
   "pygments_lexer": "ipython3",
   "version": "3.6.5"
  }
 },
 "nbformat": 4,
 "nbformat_minor": 2
}
