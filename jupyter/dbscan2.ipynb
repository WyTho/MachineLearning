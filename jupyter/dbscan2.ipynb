{
 "cells": [
  {
   "cell_type": "markdown",
   "metadata": {},
   "source": [
    "### Import SUM shit"
   ]
  },
  {
   "cell_type": "code",
   "execution_count": 1,
   "metadata": {},
   "outputs": [],
   "source": [
    "import pandas as pd\n",
    "from pylab import rcParams\n",
    "import seaborn as sb\n",
    "import matplotlib.pyplot as plt\n",
    "\n",
    "import sklearn\n",
    "from sklearn.cluster import DBSCAN\n",
    "from collections import Counter"
   ]
  },
  {
   "cell_type": "code",
   "execution_count": 2,
   "metadata": {},
   "outputs": [],
   "source": [
    "# Standard data visualisaton params for Jupyter\n",
    "%matplotlib inline\n",
    "rcParams['figure.figsize'] = 15, 4\n",
    "sb.set_style('whitegrid')"
   ]
  },
  {
   "cell_type": "markdown",
   "metadata": {},
   "source": [
    "### Getting dataset"
   ]
  },
  {
   "cell_type": "code",
   "execution_count": 3,
   "metadata": {},
   "outputs": [
    {
     "data": {
      "text/html": [
       "<div>\n",
       "<style scoped>\n",
       "    .dataframe tbody tr th:only-of-type {\n",
       "        vertical-align: middle;\n",
       "    }\n",
       "\n",
       "    .dataframe tbody tr th {\n",
       "        vertical-align: top;\n",
       "    }\n",
       "\n",
       "    .dataframe thead th {\n",
       "        text-align: right;\n",
       "    }\n",
       "</style>\n",
       "<table border=\"1\" class=\"dataframe\">\n",
       "  <thead>\n",
       "    <tr style=\"text-align: right;\">\n",
       "      <th></th>\n",
       "      <th>name</th>\n",
       "      <th>state</th>\n",
       "      <th>time</th>\n",
       "    </tr>\n",
       "  </thead>\n",
       "  <tbody>\n",
       "    <tr>\n",
       "      <th>0</th>\n",
       "      <td>Staande_Lamp_1</td>\n",
       "      <td>1</td>\n",
       "      <td>1509491943009</td>\n",
       "    </tr>\n",
       "    <tr>\n",
       "      <th>1</th>\n",
       "      <td>Staande_Lamp_2</td>\n",
       "      <td>0</td>\n",
       "      <td>1509492221471</td>\n",
       "    </tr>\n",
       "    <tr>\n",
       "      <th>2</th>\n",
       "      <td>Staande_Lamp_3</td>\n",
       "      <td>0</td>\n",
       "      <td>1509489940655</td>\n",
       "    </tr>\n",
       "    <tr>\n",
       "      <th>3</th>\n",
       "      <td>Staande_Lamp_3</td>\n",
       "      <td>1</td>\n",
       "      <td>1509492826941</td>\n",
       "    </tr>\n",
       "    <tr>\n",
       "      <th>4</th>\n",
       "      <td>Staande_Lamp_3</td>\n",
       "      <td>1</td>\n",
       "      <td>1509492860451</td>\n",
       "    </tr>\n",
       "  </tbody>\n",
       "</table>\n",
       "</div>"
      ],
      "text/plain": [
       "             name  state           time\n",
       "0  Staande_Lamp_1      1  1509491943009\n",
       "1  Staande_Lamp_2      0  1509492221471\n",
       "2  Staande_Lamp_3      0  1509489940655\n",
       "3  Staande_Lamp_3      1  1509492826941\n",
       "4  Staande_Lamp_3      1  1509492860451"
      ]
     },
     "execution_count": 3,
     "metadata": {},
     "output_type": "execute_result"
    }
   ],
   "source": [
    "address = '../datasets/staandelamp_realistic.json'\n",
    "df_data = pd.read_json(address)\n",
    "\n",
    "\n",
    "### TEMP ###\n",
    "df_data = df_data[:100]\n",
    "### TEMP ###\n",
    "\n",
    "\n",
    "df_data[:5]"
   ]
  },
  {
   "cell_type": "markdown",
   "metadata": {},
   "source": [
    "### reformat the first column to iterables to prevent the following error when building the DBSCAN model:\n",
    "ValueError: could not convert string to float: 'Staande_Lamp_5'"
   ]
  },
  {
   "cell_type": "code",
   "execution_count": 4,
   "metadata": {},
   "outputs": [
    {
     "name": "stdout",
     "output_type": "stream",
     "text": [
      "before:\n",
      "              name  state           time\n",
      "0  Staande_Lamp_1      1  1509491943009\n",
      "1  Staande_Lamp_2      0  1509492221471\n",
      "2  Staande_Lamp_3      0  1509489940655\n",
      "3  Staande_Lamp_3      1  1509492826941\n",
      "4  Staande_Lamp_3      1  1509492860451\n",
      "after:\n",
      "    name  state           time\n",
      "0     0      1  1509491943009\n",
      "1     1      0  1509492221471\n",
      "2     2      0  1509489940655\n",
      "3     2      1  1509492826941\n",
      "4     2      1  1509492860451\n"
     ]
    }
   ],
   "source": [
    "# THIS WORKS TOO: (but you end up with a numpy array instead of the pandas dataframe)\n",
    "\n",
    "# from sklearn.preprocessing import LabelEncoder\n",
    "# encode = LabelEncoder()\n",
    "# arr = df.values\n",
    "# \n",
    "# column = 0;\n",
    "# arr[:,column] = encode.fit_transform(arr[:,column])\n",
    "\n",
    "from sklearn.preprocessing import LabelEncoder\n",
    "from collections import defaultdict\n",
    "\n",
    "print('before:\\n', df_data.head())\n",
    "\n",
    "d = defaultdict(LabelEncoder)\n",
    "df_fit = df_data.apply(lambda x: d[x.name].fit_transform(x))\n",
    "df_fit['time'] = df_data['time']\n",
    "print('after:\\n', df_fit.head())"
   ]
  },
  {
   "cell_type": "code",
   "execution_count": null,
   "metadata": {},
   "outputs": [],
   "source": []
  },
  {
   "cell_type": "markdown",
   "metadata": {},
   "source": [
    "### Clustering\n",
    "##### 300000ms = 5 minutes"
   ]
  },
  {
   "cell_type": "code",
   "execution_count": 5,
   "metadata": {},
   "outputs": [
    {
     "name": "stdout",
     "output_type": "stream",
     "text": [
      "DBSCAN(algorithm='auto', eps=300000, leaf_size=30, metric='euclidean',\n",
      "    metric_params=None, min_samples=2, n_jobs=1, p=None)\n"
     ]
    }
   ],
   "source": [
    "model = DBSCAN(eps=300000, min_samples=2).fit(df_fit)\n",
    "print(model)"
   ]
  },
  {
   "cell_type": "markdown",
   "metadata": {},
   "source": [
    "# Visualize results"
   ]
  },
  {
   "cell_type": "code",
   "execution_count": 6,
   "metadata": {},
   "outputs": [
    {
     "name": "stdout",
     "output_type": "stream",
     "text": [
      "Counter({-1: 32, 2: 5, 22: 5, 6: 4, 10: 4, 7: 3, 11: 3, 13: 3, 18: 3, 19: 3, 24: 3, 0: 2, 1: 2, 3: 2, 4: 2, 5: 2, 8: 2, 9: 2, 12: 2, 14: 2, 15: 2, 16: 2, 17: 2, 20: 2, 21: 2, 23: 2, 25: 2})\n",
      "amount of data: 100\n",
      "amount of outliers: 32\n",
      "\n",
      "some of the outliers:\n",
      "     name  state           time\n",
      "11     2      0  1509496790877\n",
      "12     3      0  1509494311740\n",
      "13     4      1  1509495178373\n",
      "17     2      1  1509500655859\n",
      "18     2      0  1509499036484\n"
     ]
    }
   ],
   "source": [
    "df_outliers = pd.DataFrame(df_fit)\n",
    "print(Counter(model.labels_))\n",
    "print('amount of data:', df_fit.shape[0])\n",
    "print('amount of outliers:', df_outliers[model.labels_==-1].shape[0])\n",
    "print('\\nsome of the outliers:\\n', df_outliers[model.labels_==-1].head())"
   ]
  },
  {
   "cell_type": "code",
   "execution_count": 7,
   "metadata": {},
   "outputs": [
    {
     "data": {
      "image/png": "[encoded data removed]",
      "text/plain": [
       "<Figure size 1080x288 with 1 Axes>"
      ]
     },
     "metadata": {},
     "output_type": "display_data"
    }
   ],
   "source": [
    "fig = plt.figure()\n",
    "ax = fig.add_axes([.1, .1, 1, 1])\n",
    "colors = model.labels_\n",
    "\n",
    "# use first column as X value\n",
    "X = df_fit.iloc[:,2]\n",
    "# set nr 1 as the value for y so it will be 1Dimentional\n",
    "Y = [1] * df_fit.shape[0]\n",
    "\n",
    "ax.scatter(X, Y, c=colors, s=120)\n",
    "ax.set_xlabel = 'time'\n",
    "plt.title = 'Groupingz'"
   ]
  },
  {
   "cell_type": "code",
   "execution_count": null,
   "metadata": {},
   "outputs": [],
   "source": []
  },
  {
   "cell_type": "code",
   "execution_count": null,
   "metadata": {},
   "outputs": [],
   "source": []
  },
  {
   "cell_type": "code",
   "execution_count": null,
   "metadata": {},
   "outputs": [],
   "source": []
  },
  {
   "cell_type": "code",
   "execution_count": null,
   "metadata": {},
   "outputs": [],
   "source": []
  }
 ],
 "metadata": {
  "kernelspec": {
   "display_name": "Python 3",
   "language": "python",
   "name": "python3"
  },
  "language_info": {
   "codemirror_mode": {
    "name": "ipython",
    "version": 3
   },
   "file_extension": ".py",
   "mimetype": "text/x-python",
   "name": "python",
   "nbconvert_exporter": "python",
   "pygments_lexer": "ipython3",
   "version": "3.6.5"
  }
 },
 "nbformat": 4,
 "nbformat_minor": 2
}
